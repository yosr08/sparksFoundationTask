{
 "cells": [
  {
   "cell_type": "markdown",
   "id": "00ab628d",
   "metadata": {},
   "source": [
    "# Imports:"
   ]
  },
  {
   "cell_type": "code",
   "execution_count": 1,
   "id": "824d27cc",
   "metadata": {},
   "outputs": [],
   "source": [
    "import pandas as pd\n",
    "from yahoo_fin import stock_info as si\n",
    "from sklearn import preprocessing\n",
    "import math\n",
    "import matplotlib.pyplot as plt\n",
    "import keras\n",
    "import numpy as np\n",
    "from keras.models import Sequential\n",
    "from keras.layers import Dense\n",
    "from keras.layers import LSTM\n",
    "from keras.layers import Dropout\n",
    "from keras.layers import *\n",
    "from sklearn.preprocessing import MinMaxScaler\n",
    "from sklearn.metrics import mean_squared_error\n",
    "from sklearn.metrics import mean_absolute_error\n",
    "from sklearn.model_selection import train_test_split\n",
    "from keras.callbacks import EarlyStopping\n",
    "import tensorflow as tf"
   ]
  },
  {
   "cell_type": "code",
   "execution_count": 2,
   "id": "5ed59cd7",
   "metadata": {},
   "outputs": [],
   "source": [
    "np.random.seed(1234)\n",
    "tf.random.set_seed(1234)"
   ]
  },
  {
   "cell_type": "code",
   "execution_count": 3,
   "id": "35e53837",
   "metadata": {},
   "outputs": [],
   "source": [
    "def load_data(ticker):\n",
    "    \n",
    "        # see if ticker is already a loaded stock from yahoo finance\n",
    "        if isinstance(ticker, str):\n",
    "            #load it from yahoo_fin library\n",
    "            df = si.get_data(ticker)\n",
    "        elif isinstance(ticker, pd.DataFrame):\n",
    "            #already loaded, use it directly\n",
    "            df = ticker\n",
    "        else:\n",
    "            raise TypeError(\"ticker can be either a str or a `pd.DataFrame` instances\")\n",
    "        \n",
    "        df.dropna(inplace=True)\n",
    "        return df"
   ]
  },
  {
   "cell_type": "code",
   "execution_count": 4,
   "id": "d7d4a0c4",
   "metadata": {},
   "outputs": [],
   "source": [
    "\n",
    "data_stock = load_data(\"BSE\")"
   ]
  },
  {
   "cell_type": "code",
   "execution_count": 5,
   "id": "59116da1",
   "metadata": {},
   "outputs": [],
   "source": [
    "data_stock = data_stock[\"2009-01-02\":\"2020-12-3\"]"
   ]
  },
  {
   "cell_type": "code",
   "execution_count": 6,
   "id": "bd2008b1",
   "metadata": {},
   "outputs": [
    {
     "data": {
      "text/html": [
       "<div>\n",
       "<style scoped>\n",
       "    .dataframe tbody tr th:only-of-type {\n",
       "        vertical-align: middle;\n",
       "    }\n",
       "\n",
       "    .dataframe tbody tr th {\n",
       "        vertical-align: top;\n",
       "    }\n",
       "\n",
       "    .dataframe thead th {\n",
       "        text-align: right;\n",
       "    }\n",
       "</style>\n",
       "<table border=\"1\" class=\"dataframe\">\n",
       "  <thead>\n",
       "    <tr style=\"text-align: right;\">\n",
       "      <th></th>\n",
       "      <th>open</th>\n",
       "      <th>high</th>\n",
       "      <th>low</th>\n",
       "      <th>close</th>\n",
       "      <th>adjclose</th>\n",
       "      <th>volume</th>\n",
       "      <th>ticker</th>\n",
       "    </tr>\n",
       "  </thead>\n",
       "  <tbody>\n",
       "    <tr>\n",
       "      <th>2009-01-02</th>\n",
       "      <td>9.17</td>\n",
       "      <td>9.64</td>\n",
       "      <td>9.17</td>\n",
       "      <td>9.62</td>\n",
       "      <td>5.162783</td>\n",
       "      <td>4350.0</td>\n",
       "      <td>BSE</td>\n",
       "    </tr>\n",
       "    <tr>\n",
       "      <th>2009-01-05</th>\n",
       "      <td>9.62</td>\n",
       "      <td>10.03</td>\n",
       "      <td>9.60</td>\n",
       "      <td>10.03</td>\n",
       "      <td>5.382814</td>\n",
       "      <td>21828.0</td>\n",
       "      <td>BSE</td>\n",
       "    </tr>\n",
       "    <tr>\n",
       "      <th>2009-01-06</th>\n",
       "      <td>10.23</td>\n",
       "      <td>10.65</td>\n",
       "      <td>10.23</td>\n",
       "      <td>10.60</td>\n",
       "      <td>5.688720</td>\n",
       "      <td>33708.0</td>\n",
       "      <td>BSE</td>\n",
       "    </tr>\n",
       "    <tr>\n",
       "      <th>2009-01-07</th>\n",
       "      <td>10.57</td>\n",
       "      <td>10.75</td>\n",
       "      <td>10.40</td>\n",
       "      <td>10.70</td>\n",
       "      <td>5.742384</td>\n",
       "      <td>21600.0</td>\n",
       "      <td>BSE</td>\n",
       "    </tr>\n",
       "    <tr>\n",
       "      <th>2009-01-08</th>\n",
       "      <td>10.55</td>\n",
       "      <td>11.29</td>\n",
       "      <td>10.55</td>\n",
       "      <td>11.29</td>\n",
       "      <td>6.059023</td>\n",
       "      <td>11012.0</td>\n",
       "      <td>BSE</td>\n",
       "    </tr>\n",
       "  </tbody>\n",
       "</table>\n",
       "</div>"
      ],
      "text/plain": [
       "             open   high    low  close  adjclose   volume ticker\n",
       "2009-01-02   9.17   9.64   9.17   9.62  5.162783   4350.0    BSE\n",
       "2009-01-05   9.62  10.03   9.60  10.03  5.382814  21828.0    BSE\n",
       "2009-01-06  10.23  10.65  10.23  10.60  5.688720  33708.0    BSE\n",
       "2009-01-07  10.57  10.75  10.40  10.70  5.742384  21600.0    BSE\n",
       "2009-01-08  10.55  11.29  10.55  11.29  6.059023  11012.0    BSE"
      ]
     },
     "execution_count": 6,
     "metadata": {},
     "output_type": "execute_result"
    }
   ],
   "source": [
    "data_stock.head()"
   ]
  },
  {
   "cell_type": "code",
   "execution_count": 7,
   "id": "9bcff618",
   "metadata": {},
   "outputs": [],
   "source": [
    "data_news = pd.read_csv(\"sentiment.csv\" , index_col=0)"
   ]
  },
  {
   "cell_type": "code",
   "execution_count": 8,
   "id": "9d07acf7",
   "metadata": {},
   "outputs": [],
   "source": [
    " # Converting the index as date\n",
    "data_news.index = pd.to_datetime(data_news.index)"
   ]
  },
  {
   "cell_type": "code",
   "execution_count": 9,
   "id": "1abc8e19",
   "metadata": {},
   "outputs": [
    {
     "data": {
      "text/html": [
       "<div>\n",
       "<style scoped>\n",
       "    .dataframe tbody tr th:only-of-type {\n",
       "        vertical-align: middle;\n",
       "    }\n",
       "\n",
       "    .dataframe tbody tr th {\n",
       "        vertical-align: top;\n",
       "    }\n",
       "\n",
       "    .dataframe thead th {\n",
       "        text-align: right;\n",
       "    }\n",
       "</style>\n",
       "<table border=\"1\" class=\"dataframe\">\n",
       "  <thead>\n",
       "    <tr style=\"text-align: right;\">\n",
       "      <th></th>\n",
       "      <th>neg</th>\n",
       "      <th>neu</th>\n",
       "      <th>pos</th>\n",
       "      <th>compound</th>\n",
       "      <th>sentiment</th>\n",
       "    </tr>\n",
       "    <tr>\n",
       "      <th>publish_date</th>\n",
       "      <th></th>\n",
       "      <th></th>\n",
       "      <th></th>\n",
       "      <th></th>\n",
       "      <th></th>\n",
       "    </tr>\n",
       "  </thead>\n",
       "  <tbody>\n",
       "    <tr>\n",
       "      <th>2001-01-02</th>\n",
       "      <td>0.108</td>\n",
       "      <td>0.820</td>\n",
       "      <td>0.072</td>\n",
       "      <td>-0.9426</td>\n",
       "      <td>negative</td>\n",
       "    </tr>\n",
       "    <tr>\n",
       "      <th>2001-01-03</th>\n",
       "      <td>0.084</td>\n",
       "      <td>0.817</td>\n",
       "      <td>0.098</td>\n",
       "      <td>0.6322</td>\n",
       "      <td>positive</td>\n",
       "    </tr>\n",
       "    <tr>\n",
       "      <th>2001-01-04</th>\n",
       "      <td>0.083</td>\n",
       "      <td>0.844</td>\n",
       "      <td>0.073</td>\n",
       "      <td>-0.5468</td>\n",
       "      <td>negative</td>\n",
       "    </tr>\n",
       "    <tr>\n",
       "      <th>2001-01-05</th>\n",
       "      <td>0.103</td>\n",
       "      <td>0.740</td>\n",
       "      <td>0.157</td>\n",
       "      <td>0.9892</td>\n",
       "      <td>positive</td>\n",
       "    </tr>\n",
       "    <tr>\n",
       "      <th>2001-01-06</th>\n",
       "      <td>0.118</td>\n",
       "      <td>0.709</td>\n",
       "      <td>0.172</td>\n",
       "      <td>0.4404</td>\n",
       "      <td>positive</td>\n",
       "    </tr>\n",
       "  </tbody>\n",
       "</table>\n",
       "</div>"
      ],
      "text/plain": [
       "                neg    neu    pos  compound sentiment\n",
       "publish_date                                         \n",
       "2001-01-02    0.108  0.820  0.072   -0.9426  negative\n",
       "2001-01-03    0.084  0.817  0.098    0.6322  positive\n",
       "2001-01-04    0.083  0.844  0.073   -0.5468  negative\n",
       "2001-01-05    0.103  0.740  0.157    0.9892  positive\n",
       "2001-01-06    0.118  0.709  0.172    0.4404  positive"
      ]
     },
     "execution_count": 9,
     "metadata": {},
     "output_type": "execute_result"
    }
   ],
   "source": [
    "data_news.head()"
   ]
  },
  {
   "cell_type": "code",
   "execution_count": 10,
   "id": "6b1652c8",
   "metadata": {},
   "outputs": [],
   "source": [
    "data_news = data_news[\"2009-01-02\":\"2020-12-3\"]"
   ]
  },
  {
   "cell_type": "code",
   "execution_count": 11,
   "id": "b9c92362",
   "metadata": {},
   "outputs": [],
   "source": [
    "adj = pd.DataFrame(data_stock.adjclose , index = data_stock.index)"
   ]
  },
  {
   "cell_type": "code",
   "execution_count": 12,
   "id": "8d2a4c92",
   "metadata": {},
   "outputs": [
    {
     "data": {
      "text/html": [
       "<div>\n",
       "<style scoped>\n",
       "    .dataframe tbody tr th:only-of-type {\n",
       "        vertical-align: middle;\n",
       "    }\n",
       "\n",
       "    .dataframe tbody tr th {\n",
       "        vertical-align: top;\n",
       "    }\n",
       "\n",
       "    .dataframe thead th {\n",
       "        text-align: right;\n",
       "    }\n",
       "</style>\n",
       "<table border=\"1\" class=\"dataframe\">\n",
       "  <thead>\n",
       "    <tr style=\"text-align: right;\">\n",
       "      <th></th>\n",
       "      <th>adjclose</th>\n",
       "    </tr>\n",
       "  </thead>\n",
       "  <tbody>\n",
       "    <tr>\n",
       "      <th>2009-01-02</th>\n",
       "      <td>5.162783</td>\n",
       "    </tr>\n",
       "    <tr>\n",
       "      <th>2009-01-05</th>\n",
       "      <td>5.382814</td>\n",
       "    </tr>\n",
       "    <tr>\n",
       "      <th>2009-01-06</th>\n",
       "      <td>5.688720</td>\n",
       "    </tr>\n",
       "    <tr>\n",
       "      <th>2009-01-07</th>\n",
       "      <td>5.742384</td>\n",
       "    </tr>\n",
       "    <tr>\n",
       "      <th>2009-01-08</th>\n",
       "      <td>6.059023</td>\n",
       "    </tr>\n",
       "    <tr>\n",
       "      <th>...</th>\n",
       "      <td>...</td>\n",
       "    </tr>\n",
       "    <tr>\n",
       "      <th>2020-11-27</th>\n",
       "      <td>13.341542</td>\n",
       "    </tr>\n",
       "    <tr>\n",
       "      <th>2020-11-30</th>\n",
       "      <td>13.320793</td>\n",
       "    </tr>\n",
       "    <tr>\n",
       "      <th>2020-12-01</th>\n",
       "      <td>13.301023</td>\n",
       "    </tr>\n",
       "    <tr>\n",
       "      <th>2020-12-02</th>\n",
       "      <td>13.330385</td>\n",
       "    </tr>\n",
       "    <tr>\n",
       "      <th>2020-12-03</th>\n",
       "      <td>13.369533</td>\n",
       "    </tr>\n",
       "  </tbody>\n",
       "</table>\n",
       "<p>3002 rows × 1 columns</p>\n",
       "</div>"
      ],
      "text/plain": [
       "             adjclose\n",
       "2009-01-02   5.162783\n",
       "2009-01-05   5.382814\n",
       "2009-01-06   5.688720\n",
       "2009-01-07   5.742384\n",
       "2009-01-08   6.059023\n",
       "...               ...\n",
       "2020-11-27  13.341542\n",
       "2020-11-30  13.320793\n",
       "2020-12-01  13.301023\n",
       "2020-12-02  13.330385\n",
       "2020-12-03  13.369533\n",
       "\n",
       "[3002 rows x 1 columns]"
      ]
     },
     "execution_count": 12,
     "metadata": {},
     "output_type": "execute_result"
    }
   ],
   "source": [
    "adj"
   ]
  },
  {
   "cell_type": "code",
   "execution_count": 13,
   "id": "584856df",
   "metadata": {},
   "outputs": [],
   "source": [
    "sentiment = pd.DataFrame(data_news.sentiment , index = data_news.index)"
   ]
  },
  {
   "cell_type": "code",
   "execution_count": 14,
   "id": "b5d1505f",
   "metadata": {},
   "outputs": [],
   "source": [
    "final_data = pd.concat([adj , sentiment] , join=\"inner\" , axis=1 )"
   ]
  },
  {
   "cell_type": "code",
   "execution_count": 15,
   "id": "c177a2e4",
   "metadata": {},
   "outputs": [
    {
     "data": {
      "text/html": [
       "<div>\n",
       "<style scoped>\n",
       "    .dataframe tbody tr th:only-of-type {\n",
       "        vertical-align: middle;\n",
       "    }\n",
       "\n",
       "    .dataframe tbody tr th {\n",
       "        vertical-align: top;\n",
       "    }\n",
       "\n",
       "    .dataframe thead th {\n",
       "        text-align: right;\n",
       "    }\n",
       "</style>\n",
       "<table border=\"1\" class=\"dataframe\">\n",
       "  <thead>\n",
       "    <tr style=\"text-align: right;\">\n",
       "      <th></th>\n",
       "      <th>adjclose</th>\n",
       "      <th>sentiment</th>\n",
       "    </tr>\n",
       "  </thead>\n",
       "  <tbody>\n",
       "    <tr>\n",
       "      <th>2009-01-02</th>\n",
       "      <td>5.162783</td>\n",
       "      <td>negative</td>\n",
       "    </tr>\n",
       "    <tr>\n",
       "      <th>2009-01-05</th>\n",
       "      <td>5.382814</td>\n",
       "      <td>negative</td>\n",
       "    </tr>\n",
       "    <tr>\n",
       "      <th>2009-01-06</th>\n",
       "      <td>5.688720</td>\n",
       "      <td>negative</td>\n",
       "    </tr>\n",
       "    <tr>\n",
       "      <th>2009-01-07</th>\n",
       "      <td>5.742384</td>\n",
       "      <td>negative</td>\n",
       "    </tr>\n",
       "    <tr>\n",
       "      <th>2009-01-08</th>\n",
       "      <td>6.059023</td>\n",
       "      <td>negative</td>\n",
       "    </tr>\n",
       "    <tr>\n",
       "      <th>...</th>\n",
       "      <td>...</td>\n",
       "      <td>...</td>\n",
       "    </tr>\n",
       "    <tr>\n",
       "      <th>2020-11-27</th>\n",
       "      <td>13.341542</td>\n",
       "      <td>negative</td>\n",
       "    </tr>\n",
       "    <tr>\n",
       "      <th>2020-11-30</th>\n",
       "      <td>13.320793</td>\n",
       "      <td>negative</td>\n",
       "    </tr>\n",
       "    <tr>\n",
       "      <th>2020-12-01</th>\n",
       "      <td>13.301023</td>\n",
       "      <td>negative</td>\n",
       "    </tr>\n",
       "    <tr>\n",
       "      <th>2020-12-02</th>\n",
       "      <td>13.330385</td>\n",
       "      <td>negative</td>\n",
       "    </tr>\n",
       "    <tr>\n",
       "      <th>2020-12-03</th>\n",
       "      <td>13.369533</td>\n",
       "      <td>negative</td>\n",
       "    </tr>\n",
       "  </tbody>\n",
       "</table>\n",
       "<p>3002 rows × 2 columns</p>\n",
       "</div>"
      ],
      "text/plain": [
       "             adjclose sentiment\n",
       "2009-01-02   5.162783  negative\n",
       "2009-01-05   5.382814  negative\n",
       "2009-01-06   5.688720  negative\n",
       "2009-01-07   5.742384  negative\n",
       "2009-01-08   6.059023  negative\n",
       "...               ...       ...\n",
       "2020-11-27  13.341542  negative\n",
       "2020-11-30  13.320793  negative\n",
       "2020-12-01  13.301023  negative\n",
       "2020-12-02  13.330385  negative\n",
       "2020-12-03  13.369533  negative\n",
       "\n",
       "[3002 rows x 2 columns]"
      ]
     },
     "execution_count": 15,
     "metadata": {},
     "output_type": "execute_result"
    }
   ],
   "source": [
    "final_data"
   ]
  },
  {
   "cell_type": "code",
   "execution_count": 16,
   "id": "3005c4a9",
   "metadata": {},
   "outputs": [],
   "source": [
    "final_data.sentiment = final_data.sentiment.map({\"negative\":0,\"positive\":1})"
   ]
  },
  {
   "cell_type": "code",
   "execution_count": 17,
   "id": "063b2873",
   "metadata": {},
   "outputs": [
    {
     "data": {
      "text/html": [
       "<div>\n",
       "<style scoped>\n",
       "    .dataframe tbody tr th:only-of-type {\n",
       "        vertical-align: middle;\n",
       "    }\n",
       "\n",
       "    .dataframe tbody tr th {\n",
       "        vertical-align: top;\n",
       "    }\n",
       "\n",
       "    .dataframe thead th {\n",
       "        text-align: right;\n",
       "    }\n",
       "</style>\n",
       "<table border=\"1\" class=\"dataframe\">\n",
       "  <thead>\n",
       "    <tr style=\"text-align: right;\">\n",
       "      <th></th>\n",
       "      <th>adjclose</th>\n",
       "      <th>sentiment</th>\n",
       "    </tr>\n",
       "  </thead>\n",
       "  <tbody>\n",
       "    <tr>\n",
       "      <th>2009-01-02</th>\n",
       "      <td>5.162783</td>\n",
       "      <td>0</td>\n",
       "    </tr>\n",
       "    <tr>\n",
       "      <th>2009-01-05</th>\n",
       "      <td>5.382814</td>\n",
       "      <td>0</td>\n",
       "    </tr>\n",
       "    <tr>\n",
       "      <th>2009-01-06</th>\n",
       "      <td>5.688720</td>\n",
       "      <td>0</td>\n",
       "    </tr>\n",
       "    <tr>\n",
       "      <th>2009-01-07</th>\n",
       "      <td>5.742384</td>\n",
       "      <td>0</td>\n",
       "    </tr>\n",
       "    <tr>\n",
       "      <th>2009-01-08</th>\n",
       "      <td>6.059023</td>\n",
       "      <td>0</td>\n",
       "    </tr>\n",
       "  </tbody>\n",
       "</table>\n",
       "</div>"
      ],
      "text/plain": [
       "            adjclose  sentiment\n",
       "2009-01-02  5.162783          0\n",
       "2009-01-05  5.382814          0\n",
       "2009-01-06  5.688720          0\n",
       "2009-01-07  5.742384          0\n",
       "2009-01-08  6.059023          0"
      ]
     },
     "execution_count": 17,
     "metadata": {},
     "output_type": "execute_result"
    }
   ],
   "source": [
    "final_data.head()"
   ]
  },
  {
   "cell_type": "code",
   "execution_count": 18,
   "id": "eedac700",
   "metadata": {},
   "outputs": [
    {
     "data": {
      "text/plain": [
       "DatetimeIndex(['2009-01-02', '2009-01-05', '2009-01-06', '2009-01-07',\n",
       "               '2009-01-08', '2009-01-09', '2009-01-12', '2009-01-13',\n",
       "               '2009-01-14', '2009-01-15',\n",
       "               ...\n",
       "               '2020-11-19', '2020-11-20', '2020-11-23', '2020-11-24',\n",
       "               '2020-11-25', '2020-11-27', '2020-11-30', '2020-12-01',\n",
       "               '2020-12-02', '2020-12-03'],\n",
       "              dtype='datetime64[ns]', length=3002, freq=None)"
      ]
     },
     "execution_count": 18,
     "metadata": {},
     "output_type": "execute_result"
    }
   ],
   "source": [
    "final_data.index"
   ]
  },
  {
   "cell_type": "code",
   "execution_count": 19,
   "id": "85538195",
   "metadata": {},
   "outputs": [],
   "source": [
    "def preprocess(data):\n",
    "    training_date = \"2019-12-31\"\n",
    "    train_data,test_data = data.loc[\"2009-01-02\":\"2019-12-31\" , :],data.loc[\"2020-01-02\": , :]\n",
    "    return train_data,test_data\n",
    "    "
   ]
  },
  {
   "cell_type": "code",
   "execution_count": 20,
   "id": "eaa1e848",
   "metadata": {},
   "outputs": [],
   "source": [
    " train_data,test_data = preprocess(final_data)"
   ]
  },
  {
   "cell_type": "code",
   "execution_count": 21,
   "id": "6034f4b6",
   "metadata": {},
   "outputs": [
    {
     "data": {
      "text/plain": [
       "(2768, 2)"
      ]
     },
     "execution_count": 21,
     "metadata": {},
     "output_type": "execute_result"
    }
   ],
   "source": [
    "train_data.shape"
   ]
  },
  {
   "cell_type": "code",
   "execution_count": 22,
   "id": "09fecf05",
   "metadata": {},
   "outputs": [],
   "source": [
    "#convert an array of values into a dataset matrix\n",
    "def create_dataset(dataset , time_step=1):\n",
    "    dataset = np.array(dataset)\n",
    "    dataX,dataY = [],[]\n",
    "    for i in range(len(dataset)-time_step-1):\n",
    "        a = dataset[i:(i+time_step),:]\n",
    "        dataX.append(a)\n",
    "        dataY.append(dataset[i + time_step,0])\n",
    "    return np.array(dataX) , np.array(dataY)"
   ]
  },
  {
   "cell_type": "code",
   "execution_count": 23,
   "id": "a3c1fa02",
   "metadata": {},
   "outputs": [],
   "source": [
    "time_step=100\n",
    "X_train , y_train = create_dataset(train_data , time_step)\n",
    "X_test , ytest = create_dataset(test_data , time_step)"
   ]
  },
  {
   "cell_type": "code",
   "execution_count": 24,
   "id": "2bd40d85",
   "metadata": {},
   "outputs": [
    {
     "data": {
      "text/plain": [
       "(133,)"
      ]
     },
     "execution_count": 24,
     "metadata": {},
     "output_type": "execute_result"
    }
   ],
   "source": [
    "ytest.shape"
   ]
  },
  {
   "cell_type": "code",
   "execution_count": 25,
   "id": "3b069526",
   "metadata": {},
   "outputs": [
    {
     "data": {
      "text/plain": [
       "(2667, 100, 2)"
      ]
     },
     "execution_count": 25,
     "metadata": {},
     "output_type": "execute_result"
    }
   ],
   "source": [
    "X_train.shape"
   ]
  },
  {
   "cell_type": "code",
   "execution_count": 26,
   "id": "1cddf43d",
   "metadata": {},
   "outputs": [],
   "source": [
    "#reshape input to be [samples , time steps , features] which is required for LSTM\n",
    "X_train = X_train.reshape(X_train.shape[0],X_train.shape[1],2)\n",
    "X_test = X_test.reshape(X_test.shape[0],X_test.shape[1],2) "
   ]
  },
  {
   "cell_type": "code",
   "execution_count": 27,
   "id": "b5e81bb8",
   "metadata": {},
   "outputs": [],
   "source": [
    "from tensorflow.keras.models import Sequential\n",
    "from tensorflow.keras.layers import Dense\n",
    "from tensorflow.keras.layers import LSTM"
   ]
  },
  {
   "cell_type": "code",
   "execution_count": 28,
   "id": "2c0bddd6",
   "metadata": {},
   "outputs": [],
   "source": [
    "model = Sequential()\n",
    "model.add(LSTM(50,return_sequences=True,input_shape=(100,2)))\n",
    "model.add(LSTM(50,return_sequences=True))\n",
    "model.add(LSTM(50))\n",
    "model.add(Dense(1))\n",
    "model.compile(loss='mean_squared_error',optimizer='adam')\n"
   ]
  },
  {
   "cell_type": "code",
   "execution_count": 29,
   "id": "2e892a33",
   "metadata": {},
   "outputs": [
    {
     "name": "stdout",
     "output_type": "stream",
     "text": [
      "Model: \"sequential\"\n",
      "_________________________________________________________________\n",
      "Layer (type)                 Output Shape              Param #   \n",
      "=================================================================\n",
      "lstm (LSTM)                  (None, 100, 50)           10600     \n",
      "_________________________________________________________________\n",
      "lstm_1 (LSTM)                (None, 100, 50)           20200     \n",
      "_________________________________________________________________\n",
      "lstm_2 (LSTM)                (None, 50)                20200     \n",
      "_________________________________________________________________\n",
      "dense (Dense)                (None, 1)                 51        \n",
      "=================================================================\n",
      "Total params: 51,051\n",
      "Trainable params: 51,051\n",
      "Non-trainable params: 0\n",
      "_________________________________________________________________\n"
     ]
    }
   ],
   "source": [
    "model.summary()"
   ]
  },
  {
   "cell_type": "code",
   "execution_count": 30,
   "id": "28a84e26",
   "metadata": {},
   "outputs": [
    {
     "name": "stdout",
     "output_type": "stream",
     "text": [
      "Epoch 1/100\n",
      "42/42 [==============================] - 8s 102ms/step - loss: 33.5704 - val_loss: 21.2291\n",
      "Epoch 2/100\n",
      "42/42 [==============================] - 3s 74ms/step - loss: 3.2816 - val_loss: 9.2821\n",
      "Epoch 3/100\n",
      "42/42 [==============================] - 3s 73ms/step - loss: 2.3592 - val_loss: 7.8236\n",
      "Epoch 4/100\n",
      "42/42 [==============================] - 3s 74ms/step - loss: 2.3388 - val_loss: 7.7472\n",
      "Epoch 5/100\n",
      "42/42 [==============================] - 3s 73ms/step - loss: 2.3192 - val_loss: 7.7161\n",
      "Epoch 6/100\n",
      "42/42 [==============================] - 3s 74ms/step - loss: 2.2903 - val_loss: 7.6732\n",
      "Epoch 7/100\n",
      "42/42 [==============================] - 3s 74ms/step - loss: 2.1441 - val_loss: 7.3630\n",
      "Epoch 8/100\n",
      "42/42 [==============================] - 3s 73ms/step - loss: 1.5682 - val_loss: 6.1306\n",
      "Epoch 9/100\n",
      "42/42 [==============================] - 3s 73ms/step - loss: 0.4802 - val_loss: 2.7992\n",
      "Epoch 10/100\n",
      "42/42 [==============================] - 3s 74ms/step - loss: 0.2008 - val_loss: 1.7344\n",
      "Epoch 11/100\n",
      "42/42 [==============================] - 3s 74ms/step - loss: 0.1099 - val_loss: 1.2105\n",
      "Epoch 12/100\n",
      "42/42 [==============================] - 3s 73ms/step - loss: 0.0784 - val_loss: 0.8544\n",
      "Epoch 13/100\n",
      "42/42 [==============================] - 3s 73ms/step - loss: 0.0601 - val_loss: 0.6788\n",
      "Epoch 14/100\n",
      "42/42 [==============================] - 3s 73ms/step - loss: 0.0468 - val_loss: 0.4658\n",
      "Epoch 15/100\n",
      "42/42 [==============================] - 3s 73ms/step - loss: 0.0421 - val_loss: 0.3938\n",
      "Epoch 16/100\n",
      "42/42 [==============================] - 3s 73ms/step - loss: 0.0331 - val_loss: 0.3120\n",
      "Epoch 17/100\n",
      "42/42 [==============================] - 3s 74ms/step - loss: 0.0328 - val_loss: 0.2735\n",
      "Epoch 18/100\n",
      "42/42 [==============================] - 3s 74ms/step - loss: 0.0284 - val_loss: 0.2270\n",
      "Epoch 19/100\n",
      "42/42 [==============================] - 3s 74ms/step - loss: 0.0239 - val_loss: 0.1906\n",
      "Epoch 20/100\n",
      "42/42 [==============================] - 3s 74ms/step - loss: 0.0245 - val_loss: 0.1729\n",
      "Epoch 21/100\n",
      "42/42 [==============================] - 3s 74ms/step - loss: 0.0214 - val_loss: 0.1420\n",
      "Epoch 22/100\n",
      "42/42 [==============================] - 3s 74ms/step - loss: 0.0250 - val_loss: 0.1150\n",
      "Epoch 23/100\n",
      "42/42 [==============================] - 3s 74ms/step - loss: 0.0202 - val_loss: 0.1187\n",
      "Epoch 24/100\n",
      "42/42 [==============================] - 3s 75ms/step - loss: 0.0227 - val_loss: 0.1072\n",
      "Epoch 25/100\n",
      "42/42 [==============================] - 3s 74ms/step - loss: 0.0179 - val_loss: 0.0931\n",
      "Epoch 26/100\n",
      "42/42 [==============================] - 3s 74ms/step - loss: 0.0175 - val_loss: 0.0807\n",
      "Epoch 27/100\n",
      "42/42 [==============================] - 3s 74ms/step - loss: 0.0192 - val_loss: 0.0900\n",
      "Epoch 28/100\n",
      "42/42 [==============================] - 3s 73ms/step - loss: 0.0156 - val_loss: 0.0763\n",
      "Epoch 29/100\n",
      "42/42 [==============================] - 3s 74ms/step - loss: 0.0183 - val_loss: 0.0672\n",
      "Epoch 30/100\n",
      "42/42 [==============================] - 3s 74ms/step - loss: 0.0155 - val_loss: 0.0685\n",
      "Epoch 31/100\n",
      "42/42 [==============================] - 3s 74ms/step - loss: 0.0209 - val_loss: 0.0667\n",
      "Epoch 32/100\n",
      "42/42 [==============================] - 3s 74ms/step - loss: 0.0165 - val_loss: 0.0548\n",
      "Epoch 33/100\n",
      "42/42 [==============================] - 3s 75ms/step - loss: 0.0187 - val_loss: 0.0541\n",
      "Epoch 34/100\n",
      "42/42 [==============================] - 3s 74ms/step - loss: 0.0168 - val_loss: 0.0517\n",
      "Epoch 35/100\n",
      "42/42 [==============================] - 3s 74ms/step - loss: 0.0174 - val_loss: 0.0527\n",
      "Epoch 36/100\n",
      "42/42 [==============================] - 3s 74ms/step - loss: 0.0133 - val_loss: 0.0539\n",
      "Epoch 37/100\n",
      "42/42 [==============================] - 3s 74ms/step - loss: 0.0153 - val_loss: 0.0493\n",
      "Epoch 38/100\n",
      "42/42 [==============================] - 3s 74ms/step - loss: 0.0130 - val_loss: 0.0633\n",
      "Epoch 39/100\n",
      "42/42 [==============================] - 3s 74ms/step - loss: 0.0138 - val_loss: 0.0654\n",
      "Epoch 40/100\n",
      "42/42 [==============================] - 3s 74ms/step - loss: 0.0125 - val_loss: 0.0573\n",
      "Epoch 41/100\n",
      "42/42 [==============================] - 3s 74ms/step - loss: 0.0124 - val_loss: 0.0777\n",
      "Epoch 42/100\n",
      "42/42 [==============================] - 3s 74ms/step - loss: 0.0140 - val_loss: 0.0579\n",
      "Epoch 43/100\n",
      "42/42 [==============================] - 3s 73ms/step - loss: 0.0134 - val_loss: 0.0508\n",
      "Epoch 44/100\n",
      "42/42 [==============================] - 3s 74ms/step - loss: 0.0132 - val_loss: 0.0478\n",
      "Epoch 45/100\n",
      "42/42 [==============================] - 4s 97ms/step - loss: 0.0132 - val_loss: 0.0507\n",
      "Epoch 46/100\n",
      "42/42 [==============================] - 5s 112ms/step - loss: 0.0130 - val_loss: 0.0583\n",
      "Epoch 47/100\n",
      "42/42 [==============================] - 5s 112ms/step - loss: 0.0116 - val_loss: 0.0640\n",
      "Epoch 48/100\n",
      "42/42 [==============================] - 5s 112ms/step - loss: 0.0138 - val_loss: 0.0515\n",
      "Epoch 49/100\n",
      "42/42 [==============================] - 5s 110ms/step - loss: 0.0143 - val_loss: 0.0509\n",
      "Epoch 50/100\n",
      "42/42 [==============================] - 5s 111ms/step - loss: 0.0125 - val_loss: 0.0497\n",
      "Epoch 51/100\n",
      "42/42 [==============================] - 5s 111ms/step - loss: 0.0115 - val_loss: 0.0583\n",
      "Epoch 52/100\n",
      "42/42 [==============================] - 5s 110ms/step - loss: 0.0115 - val_loss: 0.0577\n",
      "Epoch 53/100\n",
      "42/42 [==============================] - 5s 111ms/step - loss: 0.0117 - val_loss: 0.0491\n",
      "Epoch 54/100\n",
      "42/42 [==============================] - 5s 111ms/step - loss: 0.0120 - val_loss: 0.0436\n",
      "Epoch 55/100\n",
      "42/42 [==============================] - 5s 112ms/step - loss: 0.0122 - val_loss: 0.0396\n",
      "Epoch 56/100\n",
      "42/42 [==============================] - 5s 116ms/step - loss: 0.0111 - val_loss: 0.0404\n",
      "Epoch 57/100\n",
      "42/42 [==============================] - 5s 116ms/step - loss: 0.0114 - val_loss: 0.0392\n",
      "Epoch 58/100\n",
      "42/42 [==============================] - 5s 117ms/step - loss: 0.0107 - val_loss: 0.0411\n",
      "Epoch 59/100\n",
      "42/42 [==============================] - 5s 116ms/step - loss: 0.0119 - val_loss: 0.0549\n",
      "Epoch 60/100\n",
      "42/42 [==============================] - 5s 116ms/step - loss: 0.0112 - val_loss: 0.0408\n",
      "Epoch 61/100\n",
      "42/42 [==============================] - 5s 117ms/step - loss: 0.0102 - val_loss: 0.0563\n",
      "Epoch 62/100\n",
      "42/42 [==============================] - 5s 116ms/step - loss: 0.0102 - val_loss: 0.0359\n",
      "Epoch 63/100\n",
      "42/42 [==============================] - 5s 116ms/step - loss: 0.0123 - val_loss: 0.0363\n",
      "Epoch 64/100\n",
      "42/42 [==============================] - 5s 118ms/step - loss: 0.0115 - val_loss: 0.0411\n",
      "Epoch 65/100\n",
      "42/42 [==============================] - 5s 116ms/step - loss: 0.0102 - val_loss: 0.0712\n",
      "Epoch 66/100\n",
      "42/42 [==============================] - 5s 117ms/step - loss: 0.0116 - val_loss: 0.0343\n",
      "Epoch 67/100\n",
      "42/42 [==============================] - 5s 118ms/step - loss: 0.0105 - val_loss: 0.0367\n",
      "Epoch 68/100\n",
      "42/42 [==============================] - 5s 115ms/step - loss: 0.0097 - val_loss: 0.0439\n",
      "Epoch 69/100\n",
      "42/42 [==============================] - 5s 115ms/step - loss: 0.0095 - val_loss: 0.0380\n",
      "Epoch 70/100\n",
      "42/42 [==============================] - 5s 116ms/step - loss: 0.0113 - val_loss: 0.0399\n",
      "Epoch 71/100\n",
      "42/42 [==============================] - 5s 115ms/step - loss: 0.0105 - val_loss: 0.0380\n",
      "Epoch 72/100\n",
      "42/42 [==============================] - 5s 115ms/step - loss: 0.0093 - val_loss: 0.0346\n",
      "Epoch 73/100\n",
      "42/42 [==============================] - 5s 115ms/step - loss: 0.0103 - val_loss: 0.0689\n",
      "Epoch 74/100\n",
      "42/42 [==============================] - 5s 114ms/step - loss: 0.0090 - val_loss: 0.0364\n",
      "Epoch 75/100\n",
      "42/42 [==============================] - 5s 113ms/step - loss: 0.0094 - val_loss: 0.0361\n",
      "Epoch 76/100\n",
      "42/42 [==============================] - 5s 113ms/step - loss: 0.0112 - val_loss: 0.0457\n",
      "Epoch 77/100\n",
      "42/42 [==============================] - 5s 113ms/step - loss: 0.0104 - val_loss: 0.0446\n",
      "Epoch 78/100\n",
      "42/42 [==============================] - 5s 113ms/step - loss: 0.0086 - val_loss: 0.0348\n",
      "Epoch 79/100\n",
      "42/42 [==============================] - 5s 112ms/step - loss: 0.0087 - val_loss: 0.0343\n",
      "Epoch 80/100\n",
      "42/42 [==============================] - 5s 112ms/step - loss: 0.0084 - val_loss: 0.0381\n",
      "Epoch 81/100\n",
      "42/42 [==============================] - 5s 112ms/step - loss: 0.0104 - val_loss: 0.0464\n"
     ]
    },
    {
     "name": "stdout",
     "output_type": "stream",
     "text": [
      "Epoch 82/100\n",
      "42/42 [==============================] - 5s 111ms/step - loss: 0.0103 - val_loss: 0.0321\n",
      "Epoch 83/100\n",
      "42/42 [==============================] - 5s 112ms/step - loss: 0.0084 - val_loss: 0.0334\n",
      "Epoch 84/100\n",
      "42/42 [==============================] - 5s 110ms/step - loss: 0.0087 - val_loss: 0.0381\n",
      "Epoch 85/100\n",
      "42/42 [==============================] - 5s 111ms/step - loss: 0.0093 - val_loss: 0.0420\n",
      "Epoch 86/100\n",
      "42/42 [==============================] - 5s 111ms/step - loss: 0.0086 - val_loss: 0.0282\n",
      "Epoch 87/100\n",
      "42/42 [==============================] - 5s 113ms/step - loss: 0.0089 - val_loss: 0.0484\n",
      "Epoch 88/100\n",
      "42/42 [==============================] - 5s 111ms/step - loss: 0.0083 - val_loss: 0.0279\n",
      "Epoch 89/100\n",
      "42/42 [==============================] - 5s 110ms/step - loss: 0.0092 - val_loss: 0.0307\n",
      "Epoch 90/100\n",
      "42/42 [==============================] - 5s 111ms/step - loss: 0.0093 - val_loss: 0.0357\n",
      "Epoch 91/100\n",
      "42/42 [==============================] - 5s 111ms/step - loss: 0.0073 - val_loss: 0.0374\n",
      "Epoch 92/100\n",
      "42/42 [==============================] - 5s 112ms/step - loss: 0.0068 - val_loss: 0.0356\n",
      "Epoch 93/100\n",
      "42/42 [==============================] - 5s 111ms/step - loss: 0.0083 - val_loss: 0.0255\n",
      "Epoch 94/100\n",
      "42/42 [==============================] - 5s 111ms/step - loss: 0.0090 - val_loss: 0.0276\n",
      "Epoch 95/100\n",
      "42/42 [==============================] - 5s 111ms/step - loss: 0.0078 - val_loss: 0.0341\n",
      "Epoch 96/100\n",
      "42/42 [==============================] - 5s 111ms/step - loss: 0.0073 - val_loss: 0.0249\n",
      "Epoch 97/100\n",
      "42/42 [==============================] - 5s 111ms/step - loss: 0.0081 - val_loss: 0.0318\n",
      "Epoch 98/100\n",
      "42/42 [==============================] - 5s 111ms/step - loss: 0.0072 - val_loss: 0.0268\n",
      "Epoch 99/100\n",
      "42/42 [==============================] - 5s 112ms/step - loss: 0.0079 - val_loss: 0.0259\n",
      "Epoch 100/100\n",
      "42/42 [==============================] - 5s 113ms/step - loss: 0.0087 - val_loss: 0.0251\n"
     ]
    },
    {
     "data": {
      "text/plain": [
       "<tensorflow.python.keras.callbacks.History at 0x20d354bc940>"
      ]
     },
     "execution_count": 30,
     "metadata": {},
     "output_type": "execute_result"
    }
   ],
   "source": [
    "model.fit(X_train,y_train,validation_data=(X_test,ytest),epochs=100,batch_size=64,verbose=1)"
   ]
  },
  {
   "cell_type": "code",
   "execution_count": 31,
   "id": "56eca1d9",
   "metadata": {},
   "outputs": [],
   "source": [
    "#let s do the prediction and check performance metrics\n",
    "train_predict = model.predict(X_train)\n",
    "test_predict = model.predict(X_test)"
   ]
  },
  {
   "cell_type": "code",
   "execution_count": 33,
   "id": "91bd458f",
   "metadata": {},
   "outputs": [
    {
     "data": {
      "text/plain": [
       "0.15848167408632888"
      ]
     },
     "execution_count": 33,
     "metadata": {},
     "output_type": "execute_result"
    }
   ],
   "source": [
    "#test data RMSE\n",
    "math.sqrt(mean_squared_error(ytest,test_predict))"
   ]
  },
  {
   "cell_type": "code",
   "execution_count": 35,
   "id": "6ae48122",
   "metadata": {},
   "outputs": [
    {
     "data": {
      "image/png": "[encoded data removed]",
      "text/plain": [
       "<Figure size 864x576 with 1 Axes>"
      ]
     },
     "metadata": {
      "needs_background": "light"
     },
     "output_type": "display_data"
    }
   ],
   "source": [
    "ytest_tr = pd.DataFrame(ytest)\n",
    "test_predict = pd.DataFrame(test_predict)\n",
    "plt.figure(figsize=(12,8))\n",
    "plt.plot(ytest_tr, color='blue', label='Real')\n",
    "plt.plot(test_predict , color='red', label='Prediction')\n",
    "plt.title('BSE Stock Price Prediction')\n",
    "plt.legend()\n",
    "plt.show()"
   ]
  },
  {
   "cell_type": "code",
   "execution_count": null,
   "id": "2f9563d3",
   "metadata": {},
   "outputs": [],
   "source": []
  }
 ],
 "metadata": {
  "kernelspec": {
   "display_name": "Python 3",
   "language": "python",
   "name": "python3"
  },
  "language_info": {
   "codemirror_mode": {
    "name": "ipython",
    "version": 3
   },
   "file_extension": ".py",
   "mimetype": "text/x-python",
   "name": "python",
   "nbconvert_exporter": "python",
   "pygments_lexer": "ipython3",
   "version": "3.8.8"
  }
 },
 "nbformat": 4,
 "nbformat_minor": 5
}
